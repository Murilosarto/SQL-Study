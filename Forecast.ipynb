{
  "cells": [
    {
      "cell_type": "markdown",
      "metadata": {
        "id": "view-in-github",
        "colab_type": "text"
      },
      "source": [
        "<a href=\"https://colab.research.google.com/github/Murilosarto/SQL-Study/blob/main/Forecast.ipynb\" target=\"_parent\"><img src=\"https://colab.research.google.com/assets/colab-badge.svg\" alt=\"Open In Colab\"/></a>"
      ]
    },
    {
      "cell_type": "code",
      "source": [
        "import pandas as pd\n",
        "from nixtla import NixtlaClient\n",
        "from google.colab import files\n",
        "from datetime import datetime"
      ],
      "metadata": {
        "id": "hvv0KkgahGAX"
      },
      "execution_count": 159,
      "outputs": []
    },
    {
      "cell_type": "code",
      "source": [
        "nixtla_client = NixtlaClient(\n",
        "    # defaults to os.environ.get(\"NIXTLA_API_KEY\")\n",
        "    api_key = 'nixak-RASdoIGU0hW3X6NSBJYD6dE5lJyfAEbLU52aLoNqUZXEgZZLAE4ZFfskWanCuXi880nmhzPrG6ySgvGF'\n",
        ")"
      ],
      "metadata": {
        "id": "kE5LxwgXhKIo"
      },
      "execution_count": 160,
      "outputs": []
    },
    {
      "cell_type": "code",
      "source": [
        "df = pd.read_excel('/content/Estimativa.xlsx',sheet_name='Check')\n",
        "top = pd.read_excel('/content/Estimativa.xlsx',sheet_name='Sheet1',header=None)\n",
        "df2 = pd.read_csv(r'/content/Check (2).csv',sep=',')\n",
        "\n",
        "df = pd.concat([df,df2],ignore_index=True)\n",
        "\n",
        "df['DTEE'] = df.apply(lambda x: datetime.strptime(str(x['DTEE'])[:10],'%Y-%m-%d'),axis=1)\n",
        "\n",
        "df = df[['DTEE','NAID','CORRIDOR','TRANSACTIONS_TOTAL','FEE_TOTAL','FX_TOTAL','PRINCIPAL_TOTAL','REVENUE_TOTAL']]\n",
        "df = df.merge(top,left_on='CORRIDOR',right_on=0,how='left')\n",
        "df['TOP_CORRIDOR'] = df.apply(lambda x: \"OTHERS\" if pd.isna(x[0]) else x[0],axis=1)\n",
        "\n",
        "df[\"SemanaAno\"] = df[\"DTEE\"].dt.isocalendar().week\n",
        "df[\"DiaSemana\"] = df[\"DTEE\"].dt.weekday + 1 # 1=Segunda, 7=Domingo\n",
        "df[\"Ano\"] = df[\"DTEE\"].dt.year\n",
        "df[\"Mes\"] = df[\"DTEE\"].dt.month\n",
        "\n",
        "df['AnoMes'] = df['DTEE'].dt.strftime('%Y-%m')+\"-01\"\n",
        "df['AnoMes'] = df.apply(lambda x: datetime.strptime(str(x['AnoMes']),'%Y-%m-%d'),axis=1)"
      ],
      "metadata": {
        "id": "F1BF8oZdhMc6"
      },
      "execution_count": 161,
      "outputs": []
    }
  ],
  "metadata": {
    "colab": {
      "name": "Welcome To Colab",
      "provenance": [],
      "include_colab_link": true
    },
    "kernelspec": {
      "display_name": "Python 3",
      "name": "python3"
    }
  },
  "nbformat": 4,
  "nbformat_minor": 0
}