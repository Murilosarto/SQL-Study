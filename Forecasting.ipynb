{
  "nbformat": 4,
  "nbformat_minor": 0,
  "metadata": {
    "colab": {
      "provenance": [],
      "authorship_tag": "ABX9TyNEl2Y0w5a0NEObQWf0IWYQ",
      "include_colab_link": true
    },
    "kernelspec": {
      "name": "python3",
      "display_name": "Python 3"
    },
    "language_info": {
      "name": "python"
    }
  },
  "cells": [
    {
      "cell_type": "markdown",
      "metadata": {
        "id": "view-in-github",
        "colab_type": "text"
      },
      "source": [
        "<a href=\"https://colab.research.google.com/github/Murilosarto/SQL-Study/blob/main/Forecasting.ipynb\" target=\"_parent\"><img src=\"https://colab.research.google.com/assets/colab-badge.svg\" alt=\"Open In Colab\"/></a>"
      ]
    },
    {
      "cell_type": "code",
      "execution_count": 5,
      "metadata": {
        "id": "h7RLYi3FnQK2"
      },
      "outputs": [],
      "source": [
        "#Importação da Biblioteca\n",
        "import pandas as pd\n",
        "import numpy as np\n",
        "import matplotlib.pyplot as plt\n",
        "import seaborn as sns\n",
        "from datetime import datetime\n",
        "from sklearn.model_selection import train_test_split,TimeSeriesSplit\n",
        "from sklearn.preprocessing import StandardScaler, OneHotEncoder\n",
        "from xgboost import XGBRegressor\n",
        "from sklearn.metrics import mean_absolute_error, mean_squared_error\n",
        "import holidays"
      ]
    },
    {
      "cell_type": "code",
      "source": [
        "df = pd.read_csv('/content/Check.csv',sep=';')"
      ],
      "metadata": {
        "id": "OVBPB4Chowak"
      },
      "execution_count": 6,
      "outputs": []
    },
    {
      "cell_type": "code",
      "source": [
        "df['DTEE'] = df['DTEE'].apply(lambda x: datetime.strptime(x, '%d/%m/%Y'))"
      ],
      "metadata": {
        "id": "Tmiv2YYKqOBs"
      },
      "execution_count": 10,
      "outputs": []
    },
    {
      "cell_type": "code",
      "source": [
        "df['Year'] = df['DTEE'].dt.year\n",
        "df['Month'] = df['DTEE'].dt.month\n",
        "df['Day'] = df['DTEE'].dt.day\n",
        "df['DayOfWeek'] = df['DTEE'].dt.weekday"
      ],
      "metadata": {
        "id": "Z3ICHfGJpgP9"
      },
      "execution_count": 11,
      "outputs": []
    },
    {
      "cell_type": "code",
      "source": [
        "br_holidays = holidays.Brazil(years=[2020,2022,2023,2024])\n",
        "\n",
        "df['IsHoliday'] = df['DTEE'].apply(lambda x: 1 if x in br_holidays else 0)\n",
        "df['IsNewYearOrEnd'] = df['DTEE'].apply(lambda x: 1 if x.strftime('%m-%d') in ['12-31','01-01'] else 0)\n",
        "df['IsWeekday'] = df['DayOfWeek'].apply(lambda x: 1 if x<5 else 0)\n",
        "\n",
        "df = pd.get_dummies(df, columns=['Month','Day', 'DayOfWeek'],drop_first=True)"
      ],
      "metadata": {
        "id": "Dfx8nUHwqZ3_"
      },
      "execution_count": 12,
      "outputs": []
    },
    {
      "cell_type": "code",
      "source": [
        "lags = [1,7,30]\n",
        "for lag in lags:\n",
        "  df[f'Lag_{lag}'] = df['TRANSACTIONS_TOTAL'].shift(lag)"
      ],
      "metadata": {
        "id": "FTQ9HoTsr6DN"
      },
      "execution_count": 19,
      "outputs": []
    },
    {
      "cell_type": "code",
      "source": [
        "df['MovingAvg_7'] = df['TRANSACTIONS_TOTAL'].rolling(window=7).mean()\n",
        "df['MovingAvg_30'] = df['TRANSACTIONS_TOTAL'].rolling(window=30).mean()"
      ],
      "metadata": {
        "id": "GFow5Brisg3l"
      },
      "execution_count": 21,
      "outputs": []
    },
    {
      "cell_type": "code",
      "source": [
        "df.dropna(inplace=True)"
      ],
      "metadata": {
        "id": "Fa6KZcWat6wk"
      },
      "execution_count": 22,
      "outputs": []
    },
    {
      "cell_type": "code",
      "source": [
        "x = df.drop(columns=['TRANSACTIONS_TOTAL','DTEE'])\n",
        "y = df['TRANSACTIONS_TOTAL']"
      ],
      "metadata": {
        "id": "5GvntbpRt9fz"
      },
      "execution_count": 24,
      "outputs": []
    },
    {
      "cell_type": "code",
      "source": [
        "train_size = int(len(df)*0.8)\n",
        "x_train,x_test = x.iloc[:train_size],x.iloc[train_size:]\n",
        "y_train,y_test = y.iloc[:train_size],y.iloc[train_size:]"
      ],
      "metadata": {
        "id": "7z7PLa7zuQbd"
      },
      "execution_count": 25,
      "outputs": []
    },
    {
      "cell_type": "code",
      "source": [
        "from sklearn.ensemble import RandomForestRegressor"
      ],
      "metadata": {
        "id": "nMbM3s7WumgW"
      },
      "execution_count": 26,
      "outputs": []
    },
    {
      "cell_type": "code",
      "source": [
        "models = {\n",
        "\n",
        "\n",
        "\n",
        "}"
      ],
      "metadata": {
        "colab": {
          "base_uri": "https://localhost:8080/",
          "height": 176
        },
        "id": "eBwp35miuuJd",
        "outputId": "cdee2c61-6573-4b49-a410-33893cc892e1"
      },
      "execution_count": 27,
      "outputs": [
        {
          "output_type": "error",
          "ename": "NameError",
          "evalue": "name 'model' is not defined",
          "traceback": [
            "\u001b[0;31m---------------------------------------------------------------------------\u001b[0m",
            "\u001b[0;31mNameError\u001b[0m                                 Traceback (most recent call last)",
            "\u001b[0;32m<ipython-input-27-96171ca26426>\u001b[0m in \u001b[0;36m<cell line: 0>\u001b[0;34m()\u001b[0m\n\u001b[1;32m      1\u001b[0m models = {\n\u001b[0;32m----> 2\u001b[0;31m     \u001b[0mmodel\u001b[0m\u001b[0;34m.\u001b[0m\u001b[0mfit\u001b[0m\u001b[0;34m(\u001b[0m\u001b[0mx_train\u001b[0m\u001b[0;34m,\u001b[0m\u001b[0my_train\u001b[0m\u001b[0;34m)\u001b[0m\u001b[0;34m\u001b[0m\u001b[0;34m\u001b[0m\u001b[0m\n\u001b[0m\u001b[1;32m      3\u001b[0m }\n",
            "\u001b[0;31mNameError\u001b[0m: name 'model' is not defined"
          ]
        }
      ]
    },
    {
      "cell_type": "code",
      "source": [
        "model.fit(x_train,y_train)\n",
        "    predictions = model.predict(x_test)\n",
        "\n",
        "pre"
      ],
      "metadata": {
        "id": "y4TyFzVDu8Eb"
      },
      "execution_count": null,
      "outputs": []
    }
  ]
}